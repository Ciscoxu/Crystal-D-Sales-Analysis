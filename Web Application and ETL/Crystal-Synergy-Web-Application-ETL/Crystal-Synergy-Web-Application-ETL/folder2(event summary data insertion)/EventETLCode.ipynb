{
 "cells": [
  {
   "cell_type": "code",
   "execution_count": 25,
   "metadata": {},
   "outputs": [
    {
     "name": "stdout",
     "output_type": "stream",
     "text": [
      "Data inserted successfully into the event_table.\n"
     ]
    }
   ],
   "source": [
    "import pandas as pd\n",
    "import psycopg2\n",
    "\n",
    "# Load the event data\n",
    "file_path = 'event.xlsx'\n",
    "event_df = pd.read_excel(file_path, sheet_name=0)\n",
    "\n",
    "# Replace 'NaN' with None for better handling and then convert to empty strings\n",
    "event_df = event_df.where(pd.notnull(event_df), '')\n",
    "\n",
    "# Connect to PostgreSQL\n",
    "def get_db_connection():\n",
    "    conn = psycopg2.connect(\n",
    "        dbname='5900_test', user='postgres', password='123', host='localhost'\n",
    "    )\n",
    "    return conn\n",
    "\n",
    "# Create table if it doesn't exist\n",
    "create_table_query = \"\"\"\n",
    "CREATE TABLE IF NOT EXISTS event_table (\n",
    "    \"2018\" VARCHAR(150),\n",
    "    \"2019\" VARCHAR(150),\n",
    "    \"2020\" VARCHAR(150),\n",
    "    \"2021\" VARCHAR(150),\n",
    "    \"2022\" VARCHAR(150),\n",
    "    \"2023\" VARCHAR(150),\n",
    "    \"2024\" VARCHAR(150)\n",
    ");\n",
    "\"\"\"\n",
    "\n",
    "# Insert data into the PostgreSQL table\n",
    "insert_query = \"\"\"\n",
    "INSERT INTO event_table (\"2018\", \"2019\", \"2020\", \"2021\", \"2022\", \"2023\", \"2024\") \n",
    "VALUES (%s, %s, %s, %s, %s, %s, %s);\n",
    "\"\"\"\n",
    "\n",
    "try:\n",
    "    # Establish connection\n",
    "    conn = get_db_connection()\n",
    "    cursor = conn.cursor()\n",
    "\n",
    "    # Create table\n",
    "    cursor.execute(create_table_query)\n",
    "    conn.commit()\n",
    "\n",
    "    # Insert cleaned data into the table\n",
    "    for _, row in event_df.iterrows():\n",
    "        cursor.execute(insert_query, row.tolist())\n",
    "\n",
    "    # Commit the transaction\n",
    "    conn.commit()\n",
    "    print(\"Data inserted successfully into the event_table.\")\n",
    "\n",
    "except Exception as e:\n",
    "    print(\"Error:\", e)\n",
    "\n",
    "finally:\n",
    "    if conn:\n",
    "        cursor.close()\n",
    "        conn.close()"
   ]
  }
 ],
 "metadata": {
  "kernelspec": {
   "display_name": "Python 3",
   "language": "python",
   "name": "python3"
  },
  "language_info": {
   "codemirror_mode": {
    "name": "ipython",
    "version": 3
   },
   "file_extension": ".py",
   "mimetype": "text/x-python",
   "name": "python",
   "nbconvert_exporter": "python",
   "pygments_lexer": "ipython3",
   "version": "3.10.8"
  }
 },
 "nbformat": 4,
 "nbformat_minor": 2
}
