{
 "cells": [
  {
   "cell_type": "markdown",
   "metadata": {},
   "source": [
    "# Dataset Key determination\n",
    "\n",
    "* To build the postgreSQL databasse schema for the website, a primary key is necessary.\n",
    "* The code below is design for identifying duplications in the dataset, and generate the primary key if necessary"
   ]
  },
  {
   "cell_type": "code",
   "execution_count": 2,
   "metadata": {},
   "outputs": [
    {
     "name": "stdout",
     "output_type": "stream",
     "text": [
      "        C1AccountNo        CXRecords  Year Territory      Jan       Feb  \\\n",
      "0  A2061733056$=L._  91470FS$KD_> W<  2018      West     0.00      0.00   \n",
      "1  A2061733057#*N-2  91470GQ%![I! W<  2018   Central  1730.06  10023.32   \n",
      "2  A2061733058)U90^  91470I8%.+ML W<  2018      West     0.00      0.00   \n",
      "3  A2061733059#5)>2  91470KJ(,V-0 W<  2018   Central     0.00      0.00   \n",
      "4  A2061733060)(W<%  91470M0#>H/T W<  2018   Midwest     0.00    302.72   \n",
      "\n",
      "      Mar  Apr     May  Jun  ...  Aug     Sep     Oct    Nov      Dec  \\\n",
      "0    0.00  0.0    0.00  0.0  ...  0.0  639.00    0.00   0.00  1438.00   \n",
      "1  108.18  0.0    0.00  0.0  ...  0.0    0.00  282.60   0.00   861.14   \n",
      "2    0.00  0.0  306.86  0.0  ...  0.0    0.00  211.37  66.01     0.00   \n",
      "3    0.00  0.0    0.00  0.0  ...  0.0  153.46    0.00   0.00     0.00   \n",
      "4    0.00  0.0    0.00  0.0  ...  0.0    0.00    0.00   0.00     0.00   \n",
      "\n",
      "   q1_sales  q2_sales  q3_sales  q4_sales  annual_sales  \n",
      "0      0.00      0.00    639.00   1438.00       2077.00  \n",
      "1  11861.56      0.00      0.00   1143.74      13005.30  \n",
      "2      0.00    306.86      0.00    277.38        584.24  \n",
      "3      0.00      0.00    153.46      0.00        153.46  \n",
      "4    302.72      0.00      0.00      0.00        302.72  \n",
      "\n",
      "[5 rows x 21 columns]\n",
      "C1AccountNo     0\n",
      "CXRecords       0\n",
      "Year            0\n",
      "Territory       0\n",
      "Jan             0\n",
      "Feb             0\n",
      "Mar             0\n",
      "Apr             0\n",
      "May             0\n",
      "Jun             0\n",
      "Jul             0\n",
      "Aug             0\n",
      "Sep             0\n",
      "Oct             0\n",
      "Nov             0\n",
      "Dec             0\n",
      "q1_sales        0\n",
      "q2_sales        0\n",
      "q3_sales        0\n",
      "q4_sales        0\n",
      "annual_sales    0\n",
      "dtype: int64\n"
     ]
    }
   ],
   "source": [
    "# Read in the dataset and check the current dataset \n",
    "\n",
    "import pandas as pd\n",
    "\n",
    "file_path = 'cleaned_data_V3.csv'\n",
    "data = pd.read_csv(file_path)\n",
    "\n",
    "nullnumbers = data.isnull().sum()\n",
    "\n",
    "print(data.head())\n",
    "print(nullnumbers)"
   ]
  },
  {
   "cell_type": "code",
   "execution_count": 3,
   "metadata": {},
   "outputs": [
    {
     "name": "stdout",
     "output_type": "stream",
     "text": [
      "0\n"
     ]
    }
   ],
   "source": [
    "print(nullnumbers.sum())"
   ]
  },
  {
   "cell_type": "code",
   "execution_count": 4,
   "metadata": {},
   "outputs": [
    {
     "name": "stdout",
     "output_type": "stream",
     "text": [
      "Number of duplicated C1AccountNo entries: 13640\n",
      "Duplicated C1AccountNo entries:\n",
      "                C1AccountNo        CXRecords  Year Territory     Jan  \\\n",
      "5699       A2061733056$=L._  91470FS$KD_> W<  2019      West    0.00   \n",
      "5700       A2061733057#*N-2  91470GQ%![I! W<  2019   Central    0.00   \n",
      "5701       A2061733058)U90^  91470I8%.+ML W<  2019      West    0.00   \n",
      "5702       A2061733059#5)>2  91470KJ(,V-0 W<  2019   Central    0.00   \n",
      "5703       A2061733060)(W<%  91470M0#>H/T W<  2019   Midwest  357.52   \n",
      "...                     ...              ...   ...       ...     ...   \n",
      "42026  C4080750590!E-U:CJil  P2WM3KS*,0K5CB\\  2024   Unknown  207.56   \n",
      "42029  C4080844242&T9.Z&Ter  P2YZVZK(Z8 M&`6  2024     South    0.00   \n",
      "42031  C4080859683%`Z1=^M-8  P2ZGFQ1)/%:S^!P  2024   Unknown    0.00   \n",
      "42032  C4081227715#89C+2Fre  P38SJPQ*0OUL;!2  2024   Central    0.00   \n",
      "42033  C4081242226$MK&4&Pey  P3983JV%CFG.&`6  2024   Midwest    0.00   \n",
      "\n",
      "            Feb      Mar      Apr     May      Jun  ...     Aug      Sep  \\\n",
      "5699       0.00    244.0   806.60  589.15     0.00  ...    0.00     0.00   \n",
      "5700     216.16   5724.0  1566.75    0.00     0.00  ... -173.88  1219.12   \n",
      "5701     180.43      0.0     0.00    0.00     0.00  ...    0.00   106.72   \n",
      "5702       0.00      0.0     0.00    0.00     0.00  ...    0.00   154.77   \n",
      "5703       0.00      0.0     0.00    0.00     0.00  ...    0.00     0.00   \n",
      "...         ...      ...      ...     ...      ...  ...     ...      ...   \n",
      "42026  31312.07  18383.8    79.20  675.75  5145.89  ...    0.00     0.00   \n",
      "42029      0.00      0.0     0.00    0.00     0.00  ...  151.20     0.00   \n",
      "42031   1517.09      0.0   182.74    0.00     0.00  ...    0.00     0.00   \n",
      "42032      0.00      0.0     0.00    0.00     0.00  ...  535.20     0.00   \n",
      "42033      0.00      0.0     0.00    0.00     0.00  ...  897.39     0.00   \n",
      "\n",
      "          Oct  Nov      Dec  q1_sales  q2_sales  q3_sales  q4_sales  \\\n",
      "5699     0.00  0.0     0.00    244.00   1395.75      0.00      0.00   \n",
      "5700   241.39  0.0  1378.59   5940.16   1566.75   1219.12   1619.98   \n",
      "5701   308.52  0.0     0.00    180.43      0.00    106.72    308.52   \n",
      "5702     0.00  0.0     0.00      0.00      0.00    154.77      0.00   \n",
      "5703     0.00  0.0     0.00    357.52      0.00      0.00      0.00   \n",
      "...       ...  ...      ...       ...       ...       ...       ...   \n",
      "42026    0.00  0.0     0.00  49903.43   5900.84      0.00      0.00   \n",
      "42029    0.00  0.0     0.00      0.00      0.00    357.45      0.00   \n",
      "42031    0.00  0.0     0.00   1517.09    182.74      0.00      0.00   \n",
      "42032    0.00  0.0     0.00      0.00      0.00    535.20      0.00   \n",
      "42033    0.00  0.0     0.00      0.00      0.00    897.39      0.00   \n",
      "\n",
      "       annual_sales  \n",
      "5699        1639.75  \n",
      "5700       10346.01  \n",
      "5701         595.67  \n",
      "5702         154.77  \n",
      "5703         357.52  \n",
      "...             ...  \n",
      "42026      55804.27  \n",
      "42029        357.45  \n",
      "42031       1699.83  \n",
      "42032        535.20  \n",
      "42033        897.39  \n",
      "\n",
      "[13640 rows x 21 columns]\n",
      "\n",
      "Number of duplicated CXRecords entries: 13407\n",
      "Duplicated CXRecords entries:\n",
      "                C1AccountNo        CXRecords  Year Territory     Jan  \\\n",
      "5699       A2061733056$=L._  91470FS$KD_> W<  2019      West    0.00   \n",
      "5700       A2061733057#*N-2  91470GQ%![I! W<  2019   Central    0.00   \n",
      "5701       A2061733058)U90^  91470I8%.+ML W<  2019      West    0.00   \n",
      "5702       A2061733059#5)>2  91470KJ(,V-0 W<  2019   Central    0.00   \n",
      "5703       A2061733060)(W<%  91470M0#>H/T W<  2019   Midwest  357.52   \n",
      "...                     ...              ...   ...       ...     ...   \n",
      "42026  C4080750590!E-U:CJil  P2WM3KS*,0K5CB\\  2024   Unknown  207.56   \n",
      "42029  C4080844242&T9.Z&Ter  P2YZVZK(Z8 M&`6  2024     South    0.00   \n",
      "42031  C4080859683%`Z1=^M-8  P2ZGFQ1)/%:S^!P  2024   Unknown    0.00   \n",
      "42032  C4081227715#89C+2Fre  P38SJPQ*0OUL;!2  2024   Central    0.00   \n",
      "42033  C4081242226$MK&4&Pey  P3983JV%CFG.&`6  2024   Midwest    0.00   \n",
      "\n",
      "            Feb      Mar      Apr     May      Jun  ...     Aug      Sep  \\\n",
      "5699       0.00    244.0   806.60  589.15     0.00  ...    0.00     0.00   \n",
      "5700     216.16   5724.0  1566.75    0.00     0.00  ... -173.88  1219.12   \n",
      "5701     180.43      0.0     0.00    0.00     0.00  ...    0.00   106.72   \n",
      "5702       0.00      0.0     0.00    0.00     0.00  ...    0.00   154.77   \n",
      "5703       0.00      0.0     0.00    0.00     0.00  ...    0.00     0.00   \n",
      "...         ...      ...      ...     ...      ...  ...     ...      ...   \n",
      "42026  31312.07  18383.8    79.20  675.75  5145.89  ...    0.00     0.00   \n",
      "42029      0.00      0.0     0.00    0.00     0.00  ...  151.20     0.00   \n",
      "42031   1517.09      0.0   182.74    0.00     0.00  ...    0.00     0.00   \n",
      "42032      0.00      0.0     0.00    0.00     0.00  ...  535.20     0.00   \n",
      "42033      0.00      0.0     0.00    0.00     0.00  ...  897.39     0.00   \n",
      "\n",
      "          Oct  Nov      Dec  q1_sales  q2_sales  q3_sales  q4_sales  \\\n",
      "5699     0.00  0.0     0.00    244.00   1395.75      0.00      0.00   \n",
      "5700   241.39  0.0  1378.59   5940.16   1566.75   1219.12   1619.98   \n",
      "5701   308.52  0.0     0.00    180.43      0.00    106.72    308.52   \n",
      "5702     0.00  0.0     0.00      0.00      0.00    154.77      0.00   \n",
      "5703     0.00  0.0     0.00    357.52      0.00      0.00      0.00   \n",
      "...       ...  ...      ...       ...       ...       ...       ...   \n",
      "42026    0.00  0.0     0.00  49903.43   5900.84      0.00      0.00   \n",
      "42029    0.00  0.0     0.00      0.00      0.00    357.45      0.00   \n",
      "42031    0.00  0.0     0.00   1517.09    182.74      0.00      0.00   \n",
      "42032    0.00  0.0     0.00      0.00      0.00    535.20      0.00   \n",
      "42033    0.00  0.0     0.00      0.00      0.00    897.39      0.00   \n",
      "\n",
      "       annual_sales  \n",
      "5699        1639.75  \n",
      "5700       10346.01  \n",
      "5701         595.67  \n",
      "5702         154.77  \n",
      "5703         357.52  \n",
      "...             ...  \n",
      "42026      55804.27  \n",
      "42029        357.45  \n",
      "42031       1699.83  \n",
      "42032        535.20  \n",
      "42033        897.39  \n",
      "\n",
      "[13407 rows x 21 columns]\n"
     ]
    }
   ],
   "source": [
    "# Since there are no null values in the dataset, it is necessary to check the duplications in the original key\n",
    "# The key could potnetially be C1AccountNo or the combination of C1AccountNo and CXReocods\n",
    "\n",
    "# Check for duplicated values in the 'C1AccountNo' column\n",
    "duplicate_C1AccountNo = data[data['C1AccountNo'].duplicated()]\n",
    "\n",
    "# Check for duplicated values in the 'CXRecords' column\n",
    "duplicate_CXRecords = data[data['CXRecords'].duplicated()]\n",
    "\n",
    "print(f\"Number of duplicated C1AccountNo entries: {duplicate_C1AccountNo.shape[0]}\")\n",
    "print(f\"Duplicated C1AccountNo entries:\\n{duplicate_C1AccountNo}\")\n",
    "\n",
    "print(f\"\\nNumber of duplicated CXRecords entries: {duplicate_CXRecords.shape[0]}\")\n",
    "print(f\"Duplicated CXRecords entries:\\n{duplicate_CXRecords}\")\n"
   ]
  },
  {
   "cell_type": "code",
   "execution_count": 6,
   "metadata": {},
   "outputs": [
    {
     "name": "stdout",
     "output_type": "stream",
     "text": [
      "Number of duplicated C1AccountNo entries: 13640\n",
      "\n",
      "Number of duplicated CXRecords entries: 13407\n"
     ]
    }
   ],
   "source": [
    "print(f\"Number of duplicated C1AccountNo entries: {duplicate_C1AccountNo.shape[0]}\")\n",
    "print(f\"\\nNumber of duplicated CXRecords entries: {duplicate_CXRecords.shape[0]}\")"
   ]
  },
  {
   "cell_type": "code",
   "execution_count": 7,
   "metadata": {},
   "outputs": [
    {
     "name": "stdout",
     "output_type": "stream",
     "text": [
      "Number of duplicated combined entries: 13407\n"
     ]
    }
   ],
   "source": [
    "# Check if combining the two columns will eliminate duplications\n",
    "data['Combined_2col'] = data['C1AccountNo'] + '-' + data['CXRecords']\n",
    "\n",
    "duplicate_combined = data[data['Combined_2col'].duplicated()]\n",
    "\n",
    "print(f\"Number of duplicated combined entries: {duplicate_combined.shape[0]}\")"
   ]
  },
  {
   "cell_type": "code",
   "execution_count": 8,
   "metadata": {},
   "outputs": [
    {
     "name": "stdout",
     "output_type": "stream",
     "text": [
      "Number of duplicated composite key with year entries: 0\n"
     ]
    }
   ],
   "source": [
    "# Since there are still duplications, check to see if combining the three would reduce the duplications\n",
    "\n",
    "data['Combined_3col'] = data['C1AccountNo'] + '-' + data['CXRecords'] + '-' + data['Year'].astype(str)\n",
    "\n",
    "duplicate_composite_with_year = data[data['Combined_3col'].duplicated()]\n",
    "\n",
    "print(f\"Number of duplicated composite key with year entries: {duplicate_composite_with_year.shape[0]}\")"
   ]
  },
  {
   "cell_type": "markdown",
   "metadata": {},
   "source": [
    "## Since the three values：C1AccountNo + CXRecords + Year will eliminate duplications, we will create a key that is composited using these three columns"
   ]
  },
  {
   "cell_type": "code",
   "execution_count": 9,
   "metadata": {},
   "outputs": [
    {
     "name": "stdout",
     "output_type": "stream",
     "text": [
      "        C1AccountNo        CXRecords  Year Territory      Jan       Feb  \\\n",
      "0  A2061733056$=L._  91470FS$KD_> W<  2018      West     0.00      0.00   \n",
      "1  A2061733057#*N-2  91470GQ%![I! W<  2018   Central  1730.06  10023.32   \n",
      "2  A2061733058)U90^  91470I8%.+ML W<  2018      West     0.00      0.00   \n",
      "3  A2061733059#5)>2  91470KJ(,V-0 W<  2018   Central     0.00      0.00   \n",
      "4  A2061733060)(W<%  91470M0#>H/T W<  2018   Midwest     0.00    302.72   \n",
      "\n",
      "      Mar  Apr     May  Jun  ...     Oct    Nov      Dec  q1_sales  q2_sales  \\\n",
      "0    0.00  0.0    0.00  0.0  ...    0.00   0.00  1438.00      0.00      0.00   \n",
      "1  108.18  0.0    0.00  0.0  ...  282.60   0.00   861.14  11861.56      0.00   \n",
      "2    0.00  0.0  306.86  0.0  ...  211.37  66.01     0.00      0.00    306.86   \n",
      "3    0.00  0.0    0.00  0.0  ...    0.00   0.00     0.00      0.00      0.00   \n",
      "4    0.00  0.0    0.00  0.0  ...    0.00   0.00     0.00    302.72      0.00   \n",
      "\n",
      "   q3_sales  q4_sales  annual_sales                     Combined_2col  \\\n",
      "0    639.00   1438.00       2077.00  A2061733056$=L._-91470FS$KD_> W<   \n",
      "1      0.00   1143.74      13005.30  A2061733057#*N-2-91470GQ%![I! W<   \n",
      "2      0.00    277.38        584.24  A2061733058)U90^-91470I8%.+ML W<   \n",
      "3    153.46      0.00        153.46  A2061733059#5)>2-91470KJ(,V-0 W<   \n",
      "4      0.00      0.00        302.72  A2061733060)(W<%-91470M0#>H/T W<   \n",
      "\n",
      "                           Combined_3col  \n",
      "0  A2061733056$=L._-91470FS$KD_> W<-2018  \n",
      "1  A2061733057#*N-2-91470GQ%![I! W<-2018  \n",
      "2  A2061733058)U90^-91470I8%.+ML W<-2018  \n",
      "3  A2061733059#5)>2-91470KJ(,V-0 W<-2018  \n",
      "4  A2061733060)(W<%-91470M0#>H/T W<-2018  \n",
      "\n",
      "[5 rows x 23 columns]\n"
     ]
    }
   ],
   "source": [
    "print(data.head())"
   ]
  },
  {
   "cell_type": "code",
   "execution_count": 10,
   "metadata": {},
   "outputs": [
    {
     "name": "stdout",
     "output_type": "stream",
     "text": [
      "                           Combined_3col       C1AccountNo        CXRecords  \\\n",
      "0  A2061733056$=L._-91470FS$KD_> W<-2018  A2061733056$=L._  91470FS$KD_> W<   \n",
      "1  A2061733057#*N-2-91470GQ%![I! W<-2018  A2061733057#*N-2  91470GQ%![I! W<   \n",
      "2  A2061733058)U90^-91470I8%.+ML W<-2018  A2061733058)U90^  91470I8%.+ML W<   \n",
      "3  A2061733059#5)>2-91470KJ(,V-0 W<-2018  A2061733059#5)>2  91470KJ(,V-0 W<   \n",
      "4  A2061733060)(W<%-91470M0#>H/T W<-2018  A2061733060)(W<%  91470M0#>H/T W<   \n",
      "\n",
      "   Year Territory      Jan       Feb     Mar  Apr     May  ...  Aug     Sep  \\\n",
      "0  2018      West     0.00      0.00    0.00  0.0    0.00  ...  0.0  639.00   \n",
      "1  2018   Central  1730.06  10023.32  108.18  0.0    0.00  ...  0.0    0.00   \n",
      "2  2018      West     0.00      0.00    0.00  0.0  306.86  ...  0.0    0.00   \n",
      "3  2018   Central     0.00      0.00    0.00  0.0    0.00  ...  0.0  153.46   \n",
      "4  2018   Midwest     0.00    302.72    0.00  0.0    0.00  ...  0.0    0.00   \n",
      "\n",
      "      Oct    Nov      Dec  q1_sales  q2_sales  q3_sales  q4_sales  \\\n",
      "0    0.00   0.00  1438.00      0.00      0.00    639.00   1438.00   \n",
      "1  282.60   0.00   861.14  11861.56      0.00      0.00   1143.74   \n",
      "2  211.37  66.01     0.00      0.00    306.86      0.00    277.38   \n",
      "3    0.00   0.00     0.00      0.00      0.00    153.46      0.00   \n",
      "4    0.00   0.00     0.00    302.72      0.00      0.00      0.00   \n",
      "\n",
      "   annual_sales  \n",
      "0       2077.00  \n",
      "1      13005.30  \n",
      "2        584.24  \n",
      "3        153.46  \n",
      "4        302.72  \n",
      "\n",
      "[5 rows x 22 columns]\n"
     ]
    }
   ],
   "source": [
    "#Drop columns and rearrange columns\n",
    "data = data.drop('Combined_2col', axis=1)\n",
    "\n",
    "# Move 'Combined_3col' to the front\n",
    "cols = ['Combined_3col'] + [col for col in data.columns if col != 'Combined_3col']\n",
    "data = data[cols]\n",
    "\n",
    "print(data.head())"
   ]
  },
  {
   "cell_type": "code",
   "execution_count": 11,
   "metadata": {},
   "outputs": [
    {
     "name": "stdout",
     "output_type": "stream",
     "text": [
      "                                Unq_Name       C1AccountNo        CXRecords  \\\n",
      "0  A2061733056$=L._-91470FS$KD_> W<-2018  A2061733056$=L._  91470FS$KD_> W<   \n",
      "1  A2061733057#*N-2-91470GQ%![I! W<-2018  A2061733057#*N-2  91470GQ%![I! W<   \n",
      "2  A2061733058)U90^-91470I8%.+ML W<-2018  A2061733058)U90^  91470I8%.+ML W<   \n",
      "3  A2061733059#5)>2-91470KJ(,V-0 W<-2018  A2061733059#5)>2  91470KJ(,V-0 W<   \n",
      "4  A2061733060)(W<%-91470M0#>H/T W<-2018  A2061733060)(W<%  91470M0#>H/T W<   \n",
      "\n",
      "   Year Territory      Jan       Feb     Mar  Apr     May  ...  Aug     Sep  \\\n",
      "0  2018      West     0.00      0.00    0.00  0.0    0.00  ...  0.0  639.00   \n",
      "1  2018   Central  1730.06  10023.32  108.18  0.0    0.00  ...  0.0    0.00   \n",
      "2  2018      West     0.00      0.00    0.00  0.0  306.86  ...  0.0    0.00   \n",
      "3  2018   Central     0.00      0.00    0.00  0.0    0.00  ...  0.0  153.46   \n",
      "4  2018   Midwest     0.00    302.72    0.00  0.0    0.00  ...  0.0    0.00   \n",
      "\n",
      "      Oct    Nov      Dec  q1_sales  q2_sales  q3_sales  q4_sales  \\\n",
      "0    0.00   0.00  1438.00      0.00      0.00    639.00   1438.00   \n",
      "1  282.60   0.00   861.14  11861.56      0.00      0.00   1143.74   \n",
      "2  211.37  66.01     0.00      0.00    306.86      0.00    277.38   \n",
      "3    0.00   0.00     0.00      0.00      0.00    153.46      0.00   \n",
      "4    0.00   0.00     0.00    302.72      0.00      0.00      0.00   \n",
      "\n",
      "   annual_sales  \n",
      "0       2077.00  \n",
      "1      13005.30  \n",
      "2        584.24  \n",
      "3        153.46  \n",
      "4        302.72  \n",
      "\n",
      "[5 rows x 22 columns]\n"
     ]
    }
   ],
   "source": [
    "#Rename the Combined_3col to 'Unq_Name'\n",
    "data = data.rename(columns={'Combined_3col': 'Unq_Name'})\n",
    "\n",
    "print(data.head())"
   ]
  },
  {
   "cell_type": "code",
   "execution_count": 12,
   "metadata": {},
   "outputs": [
    {
     "name": "stdout",
     "output_type": "stream",
     "text": [
      "Data has been exported to data_insert.csv\n"
     ]
    }
   ],
   "source": [
    "#Export this dataset into csv file\n",
    "output_file_path = 'data_insert.csv'\n",
    "data.to_csv(output_file_path, index=False)\n",
    "\n",
    "print(f\"Data has been exported to {output_file_path}\")"
   ]
  }
 ],
 "metadata": {
  "kernelspec": {
   "display_name": "Python 3",
   "language": "python",
   "name": "python3"
  },
  "language_info": {
   "codemirror_mode": {
    "name": "ipython",
    "version": 3
   },
   "file_extension": ".py",
   "mimetype": "text/x-python",
   "name": "python",
   "nbconvert_exporter": "python",
   "pygments_lexer": "ipython3",
   "version": "3.10.8"
  }
 },
 "nbformat": 4,
 "nbformat_minor": 2
}
